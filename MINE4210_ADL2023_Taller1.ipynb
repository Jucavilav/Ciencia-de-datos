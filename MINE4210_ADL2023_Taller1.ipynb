{
  "nbformat": 4,
  "nbformat_minor": 0,
  "metadata": {
    "colab": {
      "provenance": [],
      "include_colab_link": true
    },
    "kernelspec": {
      "name": "python3",
      "display_name": "Python 3"
    },
    "language_info": {
      "name": "python"
    }
  },
  "cells": [
    {
      "cell_type": "markdown",
      "metadata": {
        "id": "view-in-github",
        "colab_type": "text"
      },
      "source": [
        "<a href=\"https://colab.research.google.com/github/Jucavilav/Ciencia-de-datos/blob/main/MINE4210_ADL2023_Taller1.ipynb\" target=\"_parent\"><img src=\"https://colab.research.google.com/assets/colab-badge.svg\" alt=\"Open In Colab\"/></a>"
      ]
    },
    {
      "cell_type": "markdown",
      "metadata": {
        "id": "SU_lch1DySrJ"
      },
      "source": [
        "![image](https://docs.google.com/uc?export=download&id=1NUy1Q-abpoV9XYK9qT9t8Mdhj3ZVlveO)"
      ]
    },
    {
      "cell_type": "markdown",
      "source": [
        "\n",
        "# **Taller 1**\n",
        "\n",
        "La Clínica de Innovación y Atención, quiere iniciar un departamento de investigación del cerebro con enfoque de proporcionar diagnósticos más precisos y rápidos. Para eso quiere apoyarse en el uso de IA para analizar casos de tumores cerebrales utilizando un conjunto de datos que contiene imágenes de cerebros con presencia de tumor y otras de cerebros en estado normal. Inicialmente, la clínica desea implementar un modelo de clasificación que pueda predecir a partir de una imagen escaneada del cerebro de un paciente si puede tener o no un tumor.\n",
        "\n",
        "Como prueba de concepto, la empresa ha proporcionado el conjunto de imágenes del cerebro con y sin tumor. Se espera que usted implemente el mejor modelo posible siguiendo las indicaciones proporcionadas:\n",
        "\n",
        "1.\t***Entrenamiento de un perceptrón multicapa***.\n",
        "\n",
        "*   Confirme si su modelo generaliza bien, o si presenta sobreajuste o subajuste. Si es alguna de las dos últimas opciones, ¿qué opciones propone para que la red MLP generalice mejor?\n",
        "\n",
        "2.\t***Entrenamiento de un undercompleted autoencoder***\n",
        "*   Realice una reducción de la dimensionalidad. Sobre el nuevo conjunto de características, construya el modelo de clasificación con un perceptrón multicapa:\n",
        "\n",
        "3.  Resuma en una tabla la comparación de resultados entre el modelo obtenido en el punto 1 (MLP) y el undercompleted autoencoder. ¿Cuál de los dos modelos le ofrecería al negocio y por qué?\n",
        "\n",
        "\n",
        "Datos: https://www.kaggle.com/datasets/preetviradiya/brian-tumor-dataset\n"
      ],
      "metadata": {
        "id": "5UbZ1aWajfMi"
      }
    },
    {
      "cell_type": "code",
      "source": [
        "from google.colab import drive\n",
        "drive.mount('/content/drive')"
      ],
      "metadata": {
        "colab": {
          "base_uri": "https://localhost:8080/"
        },
        "id": "EyoJDsOzKIYh",
        "outputId": "4dc9bf28-2dd6-49c5-d9a5-6f7e5a912c65"
      },
      "execution_count": null,
      "outputs": [
        {
          "output_type": "stream",
          "name": "stdout",
          "text": [
            "Drive already mounted at /content/drive; to attempt to forcibly remount, call drive.mount(\"/content/drive\", force_remount=True).\n"
          ]
        }
      ]
    },
    {
      "cell_type": "code",
      "source": [
        "!pip install scikeras\n",
        "!pip install keras-tuner\n",
        "#!pip install https://github.com/pandas-profiling/pandas-profiling/archive/master.zip"
      ],
      "metadata": {
        "colab": {
          "base_uri": "https://localhost:8080/"
        },
        "id": "8xQTnfgVKJAC",
        "outputId": "d753ef4b-866f-4c72-a368-70748a9e98d4"
      },
      "execution_count": null,
      "outputs": [
        {
          "output_type": "stream",
          "name": "stdout",
          "text": [
            "Requirement already satisfied: scikeras in /usr/local/lib/python3.10/dist-packages (0.11.0)\n",
            "Requirement already satisfied: packaging>=0.21 in /usr/local/lib/python3.10/dist-packages (from scikeras) (23.1)\n",
            "Requirement already satisfied: scikit-learn>=1.0.0 in /usr/local/lib/python3.10/dist-packages (from scikeras) (1.2.2)\n",
            "Requirement already satisfied: numpy>=1.17.3 in /usr/local/lib/python3.10/dist-packages (from scikit-learn>=1.0.0->scikeras) (1.23.5)\n",
            "Requirement already satisfied: scipy>=1.3.2 in /usr/local/lib/python3.10/dist-packages (from scikit-learn>=1.0.0->scikeras) (1.10.1)\n",
            "Requirement already satisfied: joblib>=1.1.1 in /usr/local/lib/python3.10/dist-packages (from scikit-learn>=1.0.0->scikeras) (1.3.2)\n",
            "Requirement already satisfied: threadpoolctl>=2.0.0 in /usr/local/lib/python3.10/dist-packages (from scikit-learn>=1.0.0->scikeras) (3.2.0)\n",
            "Requirement already satisfied: keras-tuner in /usr/local/lib/python3.10/dist-packages (1.3.5)\n",
            "Requirement already satisfied: packaging in /usr/local/lib/python3.10/dist-packages (from keras-tuner) (23.1)\n",
            "Requirement already satisfied: requests in /usr/local/lib/python3.10/dist-packages (from keras-tuner) (2.31.0)\n",
            "Requirement already satisfied: kt-legacy in /usr/local/lib/python3.10/dist-packages (from keras-tuner) (1.0.5)\n",
            "Requirement already satisfied: charset-normalizer<4,>=2 in /usr/local/lib/python3.10/dist-packages (from requests->keras-tuner) (3.2.0)\n",
            "Requirement already satisfied: idna<4,>=2.5 in /usr/local/lib/python3.10/dist-packages (from requests->keras-tuner) (3.4)\n",
            "Requirement already satisfied: urllib3<3,>=1.21.1 in /usr/local/lib/python3.10/dist-packages (from requests->keras-tuner) (2.0.4)\n",
            "Requirement already satisfied: certifi>=2017.4.17 in /usr/local/lib/python3.10/dist-packages (from requests->keras-tuner) (2023.7.22)\n"
          ]
        }
      ]
    },
    {
      "cell_type": "code",
      "source": [
        "import pandas as pd\n",
        "import numpy as np\n",
        "import random\n",
        "\n",
        "import matplotlib.pyplot as plt\n",
        "%matplotlib inline\n",
        "\n",
        "import tensorflow as tf\n",
        "import keras_tuner as kt\n",
        "\n",
        "from keras.models import Sequential\n",
        "from keras.layers import Activation, Dense, Input, Reshape, Dropout\n",
        "from keras import backend as K\n",
        "from keras import applications\n",
        "from tensorflow.keras.utils import plot_model\n",
        "#from keras.utils.vis_utils import plot_model\n",
        "\n",
        "from sklearn.metrics import classification_report, confusion_matrix\n",
        "from sklearn.model_selection import train_test_split\n",
        "\n",
        "import os\n",
        "from PIL import Image\n",
        "import shutil\n",
        "\n",
        "print('Tensorflow version:', tf.__version__)"
      ],
      "metadata": {
        "colab": {
          "base_uri": "https://localhost:8080/"
        },
        "id": "tbSi4F1nZey4",
        "outputId": "f09155b0-e02e-4cb4-87fa-8fbedd4d2a22"
      },
      "execution_count": null,
      "outputs": [
        {
          "output_type": "stream",
          "name": "stdout",
          "text": [
            "Tensorflow version: 2.13.0\n"
          ]
        }
      ]
    },
    {
      "cell_type": "code",
      "source": [
        "#import os\n",
        "\n",
        "#root_dir = '/content/drive/MyDrive/Data'\n",
        "#subdirectory = 'BrainTumor'\n",
        "#subdirectory = 'Healthy'\n",
        "\n",
        "#path = os.path.join(root_dir, subdirectory)\n",
        "#print(path)"
      ],
      "metadata": {
        "id": "kCxr62bOkBsO"
      },
      "execution_count": null,
      "outputs": []
    },
    {
      "cell_type": "code",
      "source": [
        "# Directorio raíz del conjunto de datos\n",
        "root_dir = '/content/drive/MyDrive/Data'\n",
        "\n",
        "# Lista de los subdirectorios (train, test, val)\n",
        "subdirs = ['BrainTumor', 'Healthy']\n",
        "\n",
        "# Función para identificar el tamaño de las imágenes en un directorio\n",
        "def identify_image_sizes(directory):\n",
        "    for subdir in subdirs:\n",
        "        subdir_path = directory\n",
        "        for label in ['Cancer', 'Not cancer']:\n",
        "            label_path = os.path.join(subdir_path, label)\n",
        "\n",
        "            # Inicializar variables para el tamaño mínimo y máximo\n",
        "            min_width, min_height = float('inf'), float('inf')\n",
        "            max_width, max_height = 0, 0\n",
        "\n",
        "#            for img_file in os.listdir(label_path):\n",
        "#                img_path = os.path.join(label_path, img_file)\n",
        "\n",
        "#                # Verificar si el archivo es una imagen\n",
        "#                if img_file.lower().endswith(('.png', '.jpg', '.jpeg')):\n",
        "#                    with Image.open(img_path) as img:\n",
        "#                        width, height = img.size\n",
        "\n",
        "                        # Actualizar las dimensiones mínimas y máximas\n",
        "#                        min_width = min(min_width, width)\n",
        "#                        min_height = min(min_height, height)\n",
        "#                        max_width = max(max_width, width)\n",
        "#                        max_height = max(max_height, height)\n",
        "\n",
        "            print(f\"Directorio: {subdir}, Clase: {label}\")\n",
        "            print(f\"Tamaño Mínimo: {min_width}x{min_height} píxeles\")\n",
        "            print(f\"Tamaño Máximo: {max_width}x{max_height} píxeles\")\n",
        "\n",
        "# Identificar el tamaño de las imágenes en el conjunto de datos\n",
        "for subdir in subdirs:\n",
        "    subdir_path = os.path.join(root_dir, subdir)\n",
        "    identify_image_sizes(subdir_path)"
      ],
      "metadata": {
        "colab": {
          "base_uri": "https://localhost:8080/"
        },
        "id": "FNEgUkiuc5j0",
        "outputId": "cf6046ee-4789-486f-e685-439b476436a2"
      },
      "execution_count": null,
      "outputs": [
        {
          "output_type": "stream",
          "name": "stdout",
          "text": [
            "Directorio: BrainTumor, Clase: Cancer\n",
            "Tamaño Mínimo: infxinf píxeles\n",
            "Tamaño Máximo: 0x0 píxeles\n",
            "Directorio: BrainTumor, Clase: Not cancer\n",
            "Tamaño Mínimo: infxinf píxeles\n",
            "Tamaño Máximo: 0x0 píxeles\n",
            "Directorio: Healthy, Clase: Cancer\n",
            "Tamaño Mínimo: infxinf píxeles\n",
            "Tamaño Máximo: 0x0 píxeles\n",
            "Directorio: Healthy, Clase: Not cancer\n",
            "Tamaño Mínimo: infxinf píxeles\n",
            "Tamaño Máximo: 0x0 píxeles\n",
            "Directorio: BrainTumor, Clase: Cancer\n",
            "Tamaño Mínimo: infxinf píxeles\n",
            "Tamaño Máximo: 0x0 píxeles\n",
            "Directorio: BrainTumor, Clase: Not cancer\n",
            "Tamaño Mínimo: infxinf píxeles\n",
            "Tamaño Máximo: 0x0 píxeles\n",
            "Directorio: Healthy, Clase: Cancer\n",
            "Tamaño Mínimo: infxinf píxeles\n",
            "Tamaño Máximo: 0x0 píxeles\n",
            "Directorio: Healthy, Clase: Not cancer\n",
            "Tamaño Mínimo: infxinf píxeles\n",
            "Tamaño Máximo: 0x0 píxeles\n"
          ]
        }
      ]
    },
    {
      "cell_type": "code",
      "source": [],
      "metadata": {
        "id": "LJxX5gbfhoO7"
      },
      "execution_count": null,
      "outputs": []
    }
  ]
}