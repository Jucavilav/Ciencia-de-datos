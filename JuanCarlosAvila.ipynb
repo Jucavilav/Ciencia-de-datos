{
  "nbformat": 4,
  "nbformat_minor": 0,
  "metadata": {
    "colab": {
      "provenance": [],
      "toc_visible": true,
      "authorship_tag": "ABX9TyOUwLjtY0OYPWNvwBS2eT1B",
      "include_colab_link": true
    },
    "kernelspec": {
      "name": "python3",
      "display_name": "Python 3"
    },
    "language_info": {
      "name": "python"
    }
  },
  "cells": [
    {
      "cell_type": "markdown",
      "metadata": {
        "id": "view-in-github",
        "colab_type": "text"
      },
      "source": [
        "<a href=\"https://colab.research.google.com/github/Jucavilav/Ciencia-de-datos/blob/Taller1/JuanCarlosAvila.ipynb\" target=\"_parent\"><img src=\"https://colab.research.google.com/assets/colab-badge.svg\" alt=\"Open In Colab\"/></a>"
      ]
    },
    {
      "cell_type": "markdown",
      "source": [
        "# Exploratory Data Analysis (EDA)\n",
        "- MINE-4101: Applied Data Science\n",
        "- Univerisdad de los Andes\n",
        "- Dataset: AirBnb Listings Madrid\n",
        "- Last update: September, 2023\n",
        "- Juan Carlos Avila Villalba"
      ],
      "metadata": {
        "id": "FHIoPFzddHLj"
      }
    },
    {
      "cell_type": "code",
      "source": [
        "!pip install umap-learn"
      ],
      "metadata": {
        "id": "PwU1rLcKIKO4"
      },
      "execution_count": null,
      "outputs": []
    },
    {
      "cell_type": "code",
      "source": [
        "pip install pandas"
      ],
      "metadata": {
        "id": "agIGI61LLaT_"
      },
      "execution_count": null,
      "outputs": []
    },
    {
      "cell_type": "code",
      "source": [
        "! git clone https://github.com/Jucavilav/Ciencia-de-datos.git"
      ],
      "metadata": {
        "colab": {
          "base_uri": "https://localhost:8080/"
        },
        "id": "fY0y22YIS1Me",
        "outputId": "3e501775-0297-43c8-da7b-eeee0d0a5435"
      },
      "execution_count": 6,
      "outputs": [
        {
          "output_type": "stream",
          "name": "stdout",
          "text": [
            "Cloning into 'Ciencia-de-datos'...\n",
            "remote: Enumerating objects: 74, done.\u001b[K\n",
            "remote: Counting objects: 100% (74/74), done.\u001b[K\n",
            "remote: Compressing objects: 100% (68/68), done.\u001b[K\n",
            "remote: Total 74 (delta 29), reused 0 (delta 0), pack-reused 0\u001b[K\n",
            "Receiving objects: 100% (74/74), 13.83 MiB | 18.34 MiB/s, done.\n",
            "Resolving deltas: 100% (29/29), done.\n"
          ]
        }
      ]
    },
    {
      "cell_type": "code",
      "execution_count": 2,
      "metadata": {
        "id": "FSnl2njVIknu"
      },
      "outputs": [],
      "source": [
        "import pandas as pd\n",
        "import matplotlib.pyplot as plt\n",
        "import seaborn as sns"
      ]
    },
    {
      "cell_type": "code",
      "source": [
        "pd.set_option(\"display.max_columns\", None)\n",
        "pd.set_option(\"display.max_rows\", 100)"
      ],
      "metadata": {
        "id": "NVkHxMi-d924"
      },
      "execution_count": 3,
      "outputs": []
    },
    {
      "cell_type": "code",
      "source": [
        "pd.__version__"
      ],
      "metadata": {
        "colab": {
          "base_uri": "https://localhost:8080/",
          "height": 35
        },
        "id": "YJn2jz6_F81Q",
        "outputId": "102b5170-8490-4532-ddc7-66e0dca3ae73"
      },
      "execution_count": 7,
      "outputs": [
        {
          "output_type": "execute_result",
          "data": {
            "text/plain": [
              "'1.5.3'"
            ],
            "application/vnd.google.colaboratory.intrinsic+json": {
              "type": "string"
            }
          },
          "metadata": {},
          "execution_count": 7
        }
      ]
    },
    {
      "cell_type": "markdown",
      "source": [
        "### 1. Carga de datos"
      ],
      "metadata": {
        "id": "FeAOUK0NeCzg"
      }
    },
    {
      "cell_type": "code",
      "source": [
        "listings_df = pd.read_csv(\"/content/Ciencia-de-datos/datos/listings.csv.gz\")"
      ],
      "metadata": {
        "id": "kbl4yWGUeF3g"
      },
      "execution_count": 8,
      "outputs": []
    },
    {
      "cell_type": "code",
      "source": [
        "# Mostrando dimensiones del marco de datos\n",
        "listings_df.shape"
      ],
      "metadata": {
        "id": "y8CLmOVvY2w3",
        "outputId": "a3a21b4d-4cdd-4188-9a1f-f29ee5e60da7",
        "colab": {
          "base_uri": "https://localhost:8080/"
        }
      },
      "execution_count": 51,
      "outputs": [
        {
          "output_type": "execute_result",
          "data": {
            "text/plain": [
              "(23524, 75)"
            ]
          },
          "metadata": {},
          "execution_count": 51
        }
      ]
    },
    {
      "cell_type": "code",
      "source": [
        "# Mostrando tipos de columnas\n",
        "listings_df.dtypes"
      ],
      "metadata": {
        "id": "tO-EeMCnZXG0",
        "outputId": "4b9c6f74-7be2-4dbf-cf32-b515d6f0b299",
        "colab": {
          "base_uri": "https://localhost:8080/"
        }
      },
      "execution_count": 9,
      "outputs": [
        {
          "output_type": "execute_result",
          "data": {
            "text/plain": [
              "id                                                int64\n",
              "listing_url                                      object\n",
              "scrape_id                                         int64\n",
              "last_scraped                                     object\n",
              "source                                           object\n",
              "name                                             object\n",
              "description                                      object\n",
              "neighborhood_overview                            object\n",
              "picture_url                                      object\n",
              "host_id                                           int64\n",
              "host_url                                         object\n",
              "host_name                                        object\n",
              "host_since                                       object\n",
              "host_location                                    object\n",
              "host_about                                       object\n",
              "host_response_time                               object\n",
              "host_response_rate                               object\n",
              "host_acceptance_rate                             object\n",
              "host_is_superhost                                object\n",
              "host_thumbnail_url                               object\n",
              "host_picture_url                                 object\n",
              "host_neighbourhood                               object\n",
              "host_listings_count                             float64\n",
              "host_total_listings_count                       float64\n",
              "host_verifications                               object\n",
              "host_has_profile_pic                             object\n",
              "host_identity_verified                           object\n",
              "neighbourhood                                    object\n",
              "neighbourhood_cleansed                           object\n",
              "neighbourhood_group_cleansed                     object\n",
              "latitude                                        float64\n",
              "longitude                                       float64\n",
              "property_type                                    object\n",
              "room_type                                        object\n",
              "accommodates                                      int64\n",
              "bathrooms                                       float64\n",
              "bathrooms_text                                   object\n",
              "bedrooms                                        float64\n",
              "beds                                            float64\n",
              "amenities                                        object\n",
              "price                                            object\n",
              "minimum_nights                                    int64\n",
              "maximum_nights                                    int64\n",
              "minimum_minimum_nights                            int64\n",
              "maximum_minimum_nights                            int64\n",
              "minimum_maximum_nights                            int64\n",
              "maximum_maximum_nights                            int64\n",
              "minimum_nights_avg_ntm                          float64\n",
              "maximum_nights_avg_ntm                          float64\n",
              "calendar_updated                                float64\n",
              "has_availability                                 object\n",
              "availability_30                                   int64\n",
              "availability_60                                   int64\n",
              "availability_90                                   int64\n",
              "availability_365                                  int64\n",
              "calendar_last_scraped                            object\n",
              "number_of_reviews                                 int64\n",
              "number_of_reviews_ltm                             int64\n",
              "number_of_reviews_l30d                            int64\n",
              "first_review                                     object\n",
              "last_review                                      object\n",
              "review_scores_rating                            float64\n",
              "review_scores_accuracy                          float64\n",
              "review_scores_cleanliness                       float64\n",
              "review_scores_checkin                           float64\n",
              "review_scores_communication                     float64\n",
              "review_scores_location                          float64\n",
              "review_scores_value                             float64\n",
              "license                                          object\n",
              "instant_bookable                                 object\n",
              "calculated_host_listings_count                    int64\n",
              "calculated_host_listings_count_entire_homes       int64\n",
              "calculated_host_listings_count_private_rooms      int64\n",
              "calculated_host_listings_count_shared_rooms       int64\n",
              "reviews_per_month                               float64\n",
              "dtype: object"
            ]
          },
          "metadata": {},
          "execution_count": 9
        }
      ]
    },
    {
      "cell_type": "code",
      "source": [
        "listings_df.sample(5)"
      ],
      "metadata": {
        "id": "wIBAWZ91ZuXb",
        "outputId": "3cbf83eb-255a-48fb-8537-08ad96429e31",
        "colab": {
          "base_uri": "https://localhost:8080/",
          "height": 712
        }
      },
      "execution_count": 10,
      "outputs": [
        {
          "output_type": "execute_result",
          "data": {
            "text/plain": [
              "                       id                                      listing_url  \\\n",
              "16572  669993599747679077  https://www.airbnb.com/rooms/669993599747679077   \n",
              "19509  798531771525681972  https://www.airbnb.com/rooms/798531771525681972   \n",
              "10965            44447193            https://www.airbnb.com/rooms/44447193   \n",
              "5915             27187208            https://www.airbnb.com/rooms/27187208   \n",
              "2085             12717553            https://www.airbnb.com/rooms/12717553   \n",
              "\n",
              "            scrape_id last_scraped           source  \\\n",
              "16572  20230610002006   2023-06-10      city scrape   \n",
              "19509  20230610002006   2023-06-10      city scrape   \n",
              "10965  20230610002006   2023-06-10  previous scrape   \n",
              "5915   20230610002006   2023-06-10      city scrape   \n",
              "2085   20230610002006   2023-06-10      city scrape   \n",
              "\n",
              "                                                    name  \\\n",
              "16572  Rental unit in Madrid · 2 bedrooms · 3 beds · ...   \n",
              "19509  Hotel in Madrid · ★4.71 · 1 bedroom · 1 bed · ...   \n",
              "10965  Rental unit in Madrid · 1 bedroom · 1 shared bath   \n",
              "5915   Rental unit in Madrid · ★4.0 · 1 bedroom · 1 b...   \n",
              "2085   Rental unit in Madrid · ★4.96 · 1 bedroom · 1 ...   \n",
              "\n",
              "                                             description  \\\n",
              "16572  Our mission is to empower individuals to immer...   \n",
              "19509  Nuestras instalaciones combinan diseño, modern...   \n",
              "10965  Near by metro 10  Batan and 6 Lucero,  restrau...   \n",
              "5915   KINZALATINA, está situado en el corazón de Mad...   \n",
              "2085   En el apartamento, totalmente reformado, hay o...   \n",
              "\n",
              "                                   neighborhood_overview  \\\n",
              "16572                                                NaN   \n",
              "19509                                                NaN   \n",
              "10965                                                NaN   \n",
              "5915                                                 NaN   \n",
              "2085   Es un barrio tranquilo y de gente trabajadora,...   \n",
              "\n",
              "                                             picture_url    host_id  \\\n",
              "16572  https://a0.muscache.com/pictures/prohost-api/H...  346367515   \n",
              "19509  https://a0.muscache.com/pictures/miso/Hosting-...  432147758   \n",
              "10965  https://a0.muscache.com/pictures/d07707cf-b383...   97733202   \n",
              "5915   https://a0.muscache.com/pictures/914cd62f-77bd...   25601630   \n",
              "2085   https://a0.muscache.com/pictures/ea2a2735-29a7...   58609937   \n",
              "\n",
              "                                          host_url             host_name  \\\n",
              "16572  https://www.airbnb.com/users/show/346367515                  Ukio   \n",
              "19509  https://www.airbnb.com/users/show/432147758  Hostal Siesta And Go   \n",
              "10965   https://www.airbnb.com/users/show/97733202                Daniel   \n",
              "5915    https://www.airbnb.com/users/show/25601630                 Nancy   \n",
              "2085    https://www.airbnb.com/users/show/58609937                Julian   \n",
              "\n",
              "       host_since     host_location  \\\n",
              "16572  2020-05-15  Barcelona, Spain   \n",
              "19509  2021-11-16     Madrid, Spain   \n",
              "10965  2016-10-03               NaN   \n",
              "5915   2015-01-04     Madrid, Spain   \n",
              "2085   2016-02-13     Madrid, Spain   \n",
              "\n",
              "                                              host_about host_response_time  \\\n",
              "16572  Ukio's mission is to empower individuals to li...     within an hour   \n",
              "19509                                 Hostal Siesta & Go     within an hour   \n",
              "10965                         Keel Calm and Enjoy Madrid                NaN   \n",
              "5915                                                 NaN                NaN   \n",
              "2085   Hola, soy una persona jubilada. Me considero a...     within an hour   \n",
              "\n",
              "      host_response_rate host_acceptance_rate host_is_superhost  \\\n",
              "16572                98%                 100%                 f   \n",
              "19509               100%                  99%                 f   \n",
              "10965                NaN                  NaN               NaN   \n",
              "5915                 NaN                 100%               NaN   \n",
              "2085                100%                 100%               NaN   \n",
              "\n",
              "                                      host_thumbnail_url  \\\n",
              "16572  https://a0.muscache.com/im/pictures/user/f790e...   \n",
              "19509  https://a0.muscache.com/im/pictures/user/7df66...   \n",
              "10965  https://a0.muscache.com/im/pictures/user/fcdbd...   \n",
              "5915   https://a0.muscache.com/im/pictures/user/3cde0...   \n",
              "2085   https://a0.muscache.com/im/pictures/user/633e2...   \n",
              "\n",
              "                                        host_picture_url host_neighbourhood  \\\n",
              "16572  https://a0.muscache.com/im/pictures/user/f790e...                NaN   \n",
              "19509  https://a0.muscache.com/im/pictures/user/7df66...                NaN   \n",
              "10965  https://a0.muscache.com/im/pictures/user/fcdbd...                NaN   \n",
              "5915   https://a0.muscache.com/im/pictures/user/3cde0...             Aluche   \n",
              "2085   https://a0.muscache.com/im/pictures/user/633e2...           Delicias   \n",
              "\n",
              "       host_listings_count  host_total_listings_count  \\\n",
              "16572                448.0                      454.0   \n",
              "19509                 25.0                       25.0   \n",
              "10965                  1.0                        1.0   \n",
              "5915                   1.0                        7.0   \n",
              "2085                   2.0                        3.0   \n",
              "\n",
              "            host_verifications host_has_profile_pic host_identity_verified  \\\n",
              "16572  ['phone', 'work_email']                    t                      t   \n",
              "19509       ['email', 'phone']                    t                      t   \n",
              "10965                ['phone']                    t                      t   \n",
              "5915        ['email', 'phone']                    t                      f   \n",
              "2085        ['email', 'phone']                    t                      t   \n",
              "\n",
              "                            neighbourhood neighbourhood_cleansed  \\\n",
              "16572                                 NaN                   Goya   \n",
              "19509                                 NaN         Cuatro Caminos   \n",
              "10965                                 NaN                 Lucero   \n",
              "5915                                  NaN       Puerta del Angel   \n",
              "2085   Madrid, Comunidad de Madrid, Spain               Delicias   \n",
              "\n",
              "      neighbourhood_group_cleansed   latitude  longitude  \\\n",
              "16572                    Salamanca  40.427250  -3.668520   \n",
              "19509                       Tetuán  40.449674  -3.695415   \n",
              "10965                       Latina  40.405720  -3.752660   \n",
              "5915                        Latina  40.409580  -3.738560   \n",
              "2085                    Arganzuela  40.395840  -3.694990   \n",
              "\n",
              "                     property_type        room_type  accommodates  bathrooms  \\\n",
              "16572           Entire rental unit  Entire home/apt             4        NaN   \n",
              "19509         Shared room in hotel      Shared room             1        NaN   \n",
              "10965  Private room in rental unit     Private room             1        NaN   \n",
              "5915   Private room in rental unit     Private room             1        NaN   \n",
              "2085   Private room in rental unit     Private room             2        NaN   \n",
              "\n",
              "         bathrooms_text  bedrooms  beds  \\\n",
              "16572           2 baths       2.0   3.0   \n",
              "19509    3 shared baths       NaN   1.0   \n",
              "10965     1 shared bath       NaN   NaN   \n",
              "5915      1 shared bath       NaN   1.0   \n",
              "2085   1.5 shared baths       NaN   1.0   \n",
              "\n",
              "                                               amenities    price  \\\n",
              "16572  [\"Elevator\", \"Oven\", \"Kitchen\", \"Toaster\", \"Wi...  $147.00   \n",
              "19509  [\"Iron\", \"Shower gel\", \"Bed linens\", \"Security...   $16.00   \n",
              "10965  [\"Iron\", \"Elevator\", \"Lock on bedroom door\", \"...   $90.00   \n",
              "5915   [\"Iron\", \"Kitchen\", \"Wifi\", \"Heating\", \"Washer...   $40.00   \n",
              "2085   [\"Elevator\", \"Oven\", \"Kitchen\", \"Body soap\", \"...   $37.00   \n",
              "\n",
              "       minimum_nights  maximum_nights  minimum_minimum_nights  \\\n",
              "16572              31             365                      31   \n",
              "19509               1             365                       1   \n",
              "10965              60              90                      60   \n",
              "5915                7            1001                       7   \n",
              "2085                2               7                       2   \n",
              "\n",
              "       maximum_minimum_nights  minimum_maximum_nights  maximum_maximum_nights  \\\n",
              "16572                      31                     365                     365   \n",
              "19509                       1                     365                     365   \n",
              "10965                      60                    1125                    1125   \n",
              "5915                        7                    1001                    1001   \n",
              "2085                        2                       7                       7   \n",
              "\n",
              "       minimum_nights_avg_ntm  maximum_nights_avg_ntm  calendar_updated  \\\n",
              "16572                    31.0                   365.0               NaN   \n",
              "19509                     1.0                   365.0               NaN   \n",
              "10965                    60.0                  1125.0               NaN   \n",
              "5915                      7.0                  1001.0               NaN   \n",
              "2085                      2.0                     7.0               NaN   \n",
              "\n",
              "      has_availability  availability_30  availability_60  availability_90  \\\n",
              "16572                t                6               36               66   \n",
              "19509                t                3               12               37   \n",
              "10965                t                0                0                0   \n",
              "5915                 t               30               60               90   \n",
              "2085                 t                2                8               12   \n",
              "\n",
              "       availability_365 calendar_last_scraped  number_of_reviews  \\\n",
              "16572               306            2023-06-10                  0   \n",
              "19509               101            2023-06-10                  7   \n",
              "10965                 0            2023-06-10                  0   \n",
              "5915                365            2023-06-10                  4   \n",
              "2085                 12            2023-06-10                383   \n",
              "\n",
              "       number_of_reviews_ltm  number_of_reviews_l30d first_review last_review  \\\n",
              "16572                      0                       0          NaN         NaN   \n",
              "19509                      7                       1   2023-01-19  2023-05-19   \n",
              "10965                      0                       0          NaN         NaN   \n",
              "5915                       1                       0   2019-09-12  2022-06-18   \n",
              "2085                      89                       9   2016-05-23  2023-06-05   \n",
              "\n",
              "       review_scores_rating  review_scores_accuracy  \\\n",
              "16572                   NaN                     NaN   \n",
              "19509                  4.71                    4.71   \n",
              "10965                   NaN                     NaN   \n",
              "5915                   4.00                    4.33   \n",
              "2085                   4.96                    4.97   \n",
              "\n",
              "       review_scores_cleanliness  review_scores_checkin  \\\n",
              "16572                        NaN                    NaN   \n",
              "19509                       4.86                   4.57   \n",
              "10965                        NaN                    NaN   \n",
              "5915                        4.33                   4.67   \n",
              "2085                        4.97                   4.99   \n",
              "\n",
              "       review_scores_communication  review_scores_location  \\\n",
              "16572                          NaN                     NaN   \n",
              "19509                         4.86                    4.71   \n",
              "10965                          NaN                     NaN   \n",
              "5915                          4.67                    4.33   \n",
              "2085                          4.96                    4.89   \n",
              "\n",
              "       review_scores_value license instant_bookable  \\\n",
              "16572                  NaN     NaN                t   \n",
              "19509                 4.71     NaN                t   \n",
              "10965                  NaN     NaN                t   \n",
              "5915                  4.33     NaN                t   \n",
              "2085                  4.94     NaN                t   \n",
              "\n",
              "       calculated_host_listings_count  \\\n",
              "16572                             172   \n",
              "19509                              25   \n",
              "10965                               1   \n",
              "5915                                1   \n",
              "2085                                2   \n",
              "\n",
              "       calculated_host_listings_count_entire_homes  \\\n",
              "16572                                          172   \n",
              "19509                                            0   \n",
              "10965                                            0   \n",
              "5915                                             0   \n",
              "2085                                             0   \n",
              "\n",
              "       calculated_host_listings_count_private_rooms  \\\n",
              "16572                                             0   \n",
              "19509                                             7   \n",
              "10965                                             1   \n",
              "5915                                              1   \n",
              "2085                                              2   \n",
              "\n",
              "       calculated_host_listings_count_shared_rooms  reviews_per_month  \n",
              "16572                                            0                NaN  \n",
              "19509                                           18               1.47  \n",
              "10965                                            0                NaN  \n",
              "5915                                             0               0.09  \n",
              "2085                                             0               4.46  "
            ],
            "text/html": [
              "\n",
              "  <div id=\"df-c9f48cad-d08b-4a34-9c61-acb2788afc0c\" class=\"colab-df-container\">\n",
              "    <div>\n",
              "<style scoped>\n",
              "    .dataframe tbody tr th:only-of-type {\n",
              "        vertical-align: middle;\n",
              "    }\n",
              "\n",
              "    .dataframe tbody tr th {\n",
              "        vertical-align: top;\n",
              "    }\n",
              "\n",
              "    .dataframe thead th {\n",
              "        text-align: right;\n",
              "    }\n",
              "</style>\n",
              "<table border=\"1\" class=\"dataframe\">\n",
              "  <thead>\n",
              "    <tr style=\"text-align: right;\">\n",
              "      <th></th>\n",
              "      <th>id</th>\n",
              "      <th>listing_url</th>\n",
              "      <th>scrape_id</th>\n",
              "      <th>last_scraped</th>\n",
              "      <th>source</th>\n",
              "      <th>name</th>\n",
              "      <th>description</th>\n",
              "      <th>neighborhood_overview</th>\n",
              "      <th>picture_url</th>\n",
              "      <th>host_id</th>\n",
              "      <th>host_url</th>\n",
              "      <th>host_name</th>\n",
              "      <th>host_since</th>\n",
              "      <th>host_location</th>\n",
              "      <th>host_about</th>\n",
              "      <th>host_response_time</th>\n",
              "      <th>host_response_rate</th>\n",
              "      <th>host_acceptance_rate</th>\n",
              "      <th>host_is_superhost</th>\n",
              "      <th>host_thumbnail_url</th>\n",
              "      <th>host_picture_url</th>\n",
              "      <th>host_neighbourhood</th>\n",
              "      <th>host_listings_count</th>\n",
              "      <th>host_total_listings_count</th>\n",
              "      <th>host_verifications</th>\n",
              "      <th>host_has_profile_pic</th>\n",
              "      <th>host_identity_verified</th>\n",
              "      <th>neighbourhood</th>\n",
              "      <th>neighbourhood_cleansed</th>\n",
              "      <th>neighbourhood_group_cleansed</th>\n",
              "      <th>latitude</th>\n",
              "      <th>longitude</th>\n",
              "      <th>property_type</th>\n",
              "      <th>room_type</th>\n",
              "      <th>accommodates</th>\n",
              "      <th>bathrooms</th>\n",
              "      <th>bathrooms_text</th>\n",
              "      <th>bedrooms</th>\n",
              "      <th>beds</th>\n",
              "      <th>amenities</th>\n",
              "      <th>price</th>\n",
              "      <th>minimum_nights</th>\n",
              "      <th>maximum_nights</th>\n",
              "      <th>minimum_minimum_nights</th>\n",
              "      <th>maximum_minimum_nights</th>\n",
              "      <th>minimum_maximum_nights</th>\n",
              "      <th>maximum_maximum_nights</th>\n",
              "      <th>minimum_nights_avg_ntm</th>\n",
              "      <th>maximum_nights_avg_ntm</th>\n",
              "      <th>calendar_updated</th>\n",
              "      <th>has_availability</th>\n",
              "      <th>availability_30</th>\n",
              "      <th>availability_60</th>\n",
              "      <th>availability_90</th>\n",
              "      <th>availability_365</th>\n",
              "      <th>calendar_last_scraped</th>\n",
              "      <th>number_of_reviews</th>\n",
              "      <th>number_of_reviews_ltm</th>\n",
              "      <th>number_of_reviews_l30d</th>\n",
              "      <th>first_review</th>\n",
              "      <th>last_review</th>\n",
              "      <th>review_scores_rating</th>\n",
              "      <th>review_scores_accuracy</th>\n",
              "      <th>review_scores_cleanliness</th>\n",
              "      <th>review_scores_checkin</th>\n",
              "      <th>review_scores_communication</th>\n",
              "      <th>review_scores_location</th>\n",
              "      <th>review_scores_value</th>\n",
              "      <th>license</th>\n",
              "      <th>instant_bookable</th>\n",
              "      <th>calculated_host_listings_count</th>\n",
              "      <th>calculated_host_listings_count_entire_homes</th>\n",
              "      <th>calculated_host_listings_count_private_rooms</th>\n",
              "      <th>calculated_host_listings_count_shared_rooms</th>\n",
              "      <th>reviews_per_month</th>\n",
              "    </tr>\n",
              "  </thead>\n",
              "  <tbody>\n",
              "    <tr>\n",
              "      <th>16572</th>\n",
              "      <td>669993599747679077</td>\n",
              "      <td>https://www.airbnb.com/rooms/669993599747679077</td>\n",
              "      <td>20230610002006</td>\n",
              "      <td>2023-06-10</td>\n",
              "      <td>city scrape</td>\n",
              "      <td>Rental unit in Madrid · 2 bedrooms · 3 beds · ...</td>\n",
              "      <td>Our mission is to empower individuals to immer...</td>\n",
              "      <td>NaN</td>\n",
              "      <td>https://a0.muscache.com/pictures/prohost-api/H...</td>\n",
              "      <td>346367515</td>\n",
              "      <td>https://www.airbnb.com/users/show/346367515</td>\n",
              "      <td>Ukio</td>\n",
              "      <td>2020-05-15</td>\n",
              "      <td>Barcelona, Spain</td>\n",
              "      <td>Ukio's mission is to empower individuals to li...</td>\n",
              "      <td>within an hour</td>\n",
              "      <td>98%</td>\n",
              "      <td>100%</td>\n",
              "      <td>f</td>\n",
              "      <td>https://a0.muscache.com/im/pictures/user/f790e...</td>\n",
              "      <td>https://a0.muscache.com/im/pictures/user/f790e...</td>\n",
              "      <td>NaN</td>\n",
              "      <td>448.0</td>\n",
              "      <td>454.0</td>\n",
              "      <td>['phone', 'work_email']</td>\n",
              "      <td>t</td>\n",
              "      <td>t</td>\n",
              "      <td>NaN</td>\n",
              "      <td>Goya</td>\n",
              "      <td>Salamanca</td>\n",
              "      <td>40.427250</td>\n",
              "      <td>-3.668520</td>\n",
              "      <td>Entire rental unit</td>\n",
              "      <td>Entire home/apt</td>\n",
              "      <td>4</td>\n",
              "      <td>NaN</td>\n",
              "      <td>2 baths</td>\n",
              "      <td>2.0</td>\n",
              "      <td>3.0</td>\n",
              "      <td>[\"Elevator\", \"Oven\", \"Kitchen\", \"Toaster\", \"Wi...</td>\n",
              "      <td>$147.00</td>\n",
              "      <td>31</td>\n",
              "      <td>365</td>\n",
              "      <td>31</td>\n",
              "      <td>31</td>\n",
              "      <td>365</td>\n",
              "      <td>365</td>\n",
              "      <td>31.0</td>\n",
              "      <td>365.0</td>\n",
              "      <td>NaN</td>\n",
              "      <td>t</td>\n",
              "      <td>6</td>\n",
              "      <td>36</td>\n",
              "      <td>66</td>\n",
              "      <td>306</td>\n",
              "      <td>2023-06-10</td>\n",
              "      <td>0</td>\n",
              "      <td>0</td>\n",
              "      <td>0</td>\n",
              "      <td>NaN</td>\n",
              "      <td>NaN</td>\n",
              "      <td>NaN</td>\n",
              "      <td>NaN</td>\n",
              "      <td>NaN</td>\n",
              "      <td>NaN</td>\n",
              "      <td>NaN</td>\n",
              "      <td>NaN</td>\n",
              "      <td>NaN</td>\n",
              "      <td>NaN</td>\n",
              "      <td>t</td>\n",
              "      <td>172</td>\n",
              "      <td>172</td>\n",
              "      <td>0</td>\n",
              "      <td>0</td>\n",
              "      <td>NaN</td>\n",
              "    </tr>\n",
              "    <tr>\n",
              "      <th>19509</th>\n",
              "      <td>798531771525681972</td>\n",
              "      <td>https://www.airbnb.com/rooms/798531771525681972</td>\n",
              "      <td>20230610002006</td>\n",
              "      <td>2023-06-10</td>\n",
              "      <td>city scrape</td>\n",
              "      <td>Hotel in Madrid · ★4.71 · 1 bedroom · 1 bed · ...</td>\n",
              "      <td>Nuestras instalaciones combinan diseño, modern...</td>\n",
              "      <td>NaN</td>\n",
              "      <td>https://a0.muscache.com/pictures/miso/Hosting-...</td>\n",
              "      <td>432147758</td>\n",
              "      <td>https://www.airbnb.com/users/show/432147758</td>\n",
              "      <td>Hostal Siesta And Go</td>\n",
              "      <td>2021-11-16</td>\n",
              "      <td>Madrid, Spain</td>\n",
              "      <td>Hostal Siesta &amp; Go</td>\n",
              "      <td>within an hour</td>\n",
              "      <td>100%</td>\n",
              "      <td>99%</td>\n",
              "      <td>f</td>\n",
              "      <td>https://a0.muscache.com/im/pictures/user/7df66...</td>\n",
              "      <td>https://a0.muscache.com/im/pictures/user/7df66...</td>\n",
              "      <td>NaN</td>\n",
              "      <td>25.0</td>\n",
              "      <td>25.0</td>\n",
              "      <td>['email', 'phone']</td>\n",
              "      <td>t</td>\n",
              "      <td>t</td>\n",
              "      <td>NaN</td>\n",
              "      <td>Cuatro Caminos</td>\n",
              "      <td>Tetuán</td>\n",
              "      <td>40.449674</td>\n",
              "      <td>-3.695415</td>\n",
              "      <td>Shared room in hotel</td>\n",
              "      <td>Shared room</td>\n",
              "      <td>1</td>\n",
              "      <td>NaN</td>\n",
              "      <td>3 shared baths</td>\n",
              "      <td>NaN</td>\n",
              "      <td>1.0</td>\n",
              "      <td>[\"Iron\", \"Shower gel\", \"Bed linens\", \"Security...</td>\n",
              "      <td>$16.00</td>\n",
              "      <td>1</td>\n",
              "      <td>365</td>\n",
              "      <td>1</td>\n",
              "      <td>1</td>\n",
              "      <td>365</td>\n",
              "      <td>365</td>\n",
              "      <td>1.0</td>\n",
              "      <td>365.0</td>\n",
              "      <td>NaN</td>\n",
              "      <td>t</td>\n",
              "      <td>3</td>\n",
              "      <td>12</td>\n",
              "      <td>37</td>\n",
              "      <td>101</td>\n",
              "      <td>2023-06-10</td>\n",
              "      <td>7</td>\n",
              "      <td>7</td>\n",
              "      <td>1</td>\n",
              "      <td>2023-01-19</td>\n",
              "      <td>2023-05-19</td>\n",
              "      <td>4.71</td>\n",
              "      <td>4.71</td>\n",
              "      <td>4.86</td>\n",
              "      <td>4.57</td>\n",
              "      <td>4.86</td>\n",
              "      <td>4.71</td>\n",
              "      <td>4.71</td>\n",
              "      <td>NaN</td>\n",
              "      <td>t</td>\n",
              "      <td>25</td>\n",
              "      <td>0</td>\n",
              "      <td>7</td>\n",
              "      <td>18</td>\n",
              "      <td>1.47</td>\n",
              "    </tr>\n",
              "    <tr>\n",
              "      <th>10965</th>\n",
              "      <td>44447193</td>\n",
              "      <td>https://www.airbnb.com/rooms/44447193</td>\n",
              "      <td>20230610002006</td>\n",
              "      <td>2023-06-10</td>\n",
              "      <td>previous scrape</td>\n",
              "      <td>Rental unit in Madrid · 1 bedroom · 1 shared bath</td>\n",
              "      <td>Near by metro 10  Batan and 6 Lucero,  restrau...</td>\n",
              "      <td>NaN</td>\n",
              "      <td>https://a0.muscache.com/pictures/d07707cf-b383...</td>\n",
              "      <td>97733202</td>\n",
              "      <td>https://www.airbnb.com/users/show/97733202</td>\n",
              "      <td>Daniel</td>\n",
              "      <td>2016-10-03</td>\n",
              "      <td>NaN</td>\n",
              "      <td>Keel Calm and Enjoy Madrid</td>\n",
              "      <td>NaN</td>\n",
              "      <td>NaN</td>\n",
              "      <td>NaN</td>\n",
              "      <td>NaN</td>\n",
              "      <td>https://a0.muscache.com/im/pictures/user/fcdbd...</td>\n",
              "      <td>https://a0.muscache.com/im/pictures/user/fcdbd...</td>\n",
              "      <td>NaN</td>\n",
              "      <td>1.0</td>\n",
              "      <td>1.0</td>\n",
              "      <td>['phone']</td>\n",
              "      <td>t</td>\n",
              "      <td>t</td>\n",
              "      <td>NaN</td>\n",
              "      <td>Lucero</td>\n",
              "      <td>Latina</td>\n",
              "      <td>40.405720</td>\n",
              "      <td>-3.752660</td>\n",
              "      <td>Private room in rental unit</td>\n",
              "      <td>Private room</td>\n",
              "      <td>1</td>\n",
              "      <td>NaN</td>\n",
              "      <td>1 shared bath</td>\n",
              "      <td>NaN</td>\n",
              "      <td>NaN</td>\n",
              "      <td>[\"Iron\", \"Elevator\", \"Lock on bedroom door\", \"...</td>\n",
              "      <td>$90.00</td>\n",
              "      <td>60</td>\n",
              "      <td>90</td>\n",
              "      <td>60</td>\n",
              "      <td>60</td>\n",
              "      <td>1125</td>\n",
              "      <td>1125</td>\n",
              "      <td>60.0</td>\n",
              "      <td>1125.0</td>\n",
              "      <td>NaN</td>\n",
              "      <td>t</td>\n",
              "      <td>0</td>\n",
              "      <td>0</td>\n",
              "      <td>0</td>\n",
              "      <td>0</td>\n",
              "      <td>2023-06-10</td>\n",
              "      <td>0</td>\n",
              "      <td>0</td>\n",
              "      <td>0</td>\n",
              "      <td>NaN</td>\n",
              "      <td>NaN</td>\n",
              "      <td>NaN</td>\n",
              "      <td>NaN</td>\n",
              "      <td>NaN</td>\n",
              "      <td>NaN</td>\n",
              "      <td>NaN</td>\n",
              "      <td>NaN</td>\n",
              "      <td>NaN</td>\n",
              "      <td>NaN</td>\n",
              "      <td>t</td>\n",
              "      <td>1</td>\n",
              "      <td>0</td>\n",
              "      <td>1</td>\n",
              "      <td>0</td>\n",
              "      <td>NaN</td>\n",
              "    </tr>\n",
              "    <tr>\n",
              "      <th>5915</th>\n",
              "      <td>27187208</td>\n",
              "      <td>https://www.airbnb.com/rooms/27187208</td>\n",
              "      <td>20230610002006</td>\n",
              "      <td>2023-06-10</td>\n",
              "      <td>city scrape</td>\n",
              "      <td>Rental unit in Madrid · ★4.0 · 1 bedroom · 1 b...</td>\n",
              "      <td>KINZALATINA, está situado en el corazón de Mad...</td>\n",
              "      <td>NaN</td>\n",
              "      <td>https://a0.muscache.com/pictures/914cd62f-77bd...</td>\n",
              "      <td>25601630</td>\n",
              "      <td>https://www.airbnb.com/users/show/25601630</td>\n",
              "      <td>Nancy</td>\n",
              "      <td>2015-01-04</td>\n",
              "      <td>Madrid, Spain</td>\n",
              "      <td>NaN</td>\n",
              "      <td>NaN</td>\n",
              "      <td>NaN</td>\n",
              "      <td>100%</td>\n",
              "      <td>NaN</td>\n",
              "      <td>https://a0.muscache.com/im/pictures/user/3cde0...</td>\n",
              "      <td>https://a0.muscache.com/im/pictures/user/3cde0...</td>\n",
              "      <td>Aluche</td>\n",
              "      <td>1.0</td>\n",
              "      <td>7.0</td>\n",
              "      <td>['email', 'phone']</td>\n",
              "      <td>t</td>\n",
              "      <td>f</td>\n",
              "      <td>NaN</td>\n",
              "      <td>Puerta del Angel</td>\n",
              "      <td>Latina</td>\n",
              "      <td>40.409580</td>\n",
              "      <td>-3.738560</td>\n",
              "      <td>Private room in rental unit</td>\n",
              "      <td>Private room</td>\n",
              "      <td>1</td>\n",
              "      <td>NaN</td>\n",
              "      <td>1 shared bath</td>\n",
              "      <td>NaN</td>\n",
              "      <td>1.0</td>\n",
              "      <td>[\"Iron\", \"Kitchen\", \"Wifi\", \"Heating\", \"Washer...</td>\n",
              "      <td>$40.00</td>\n",
              "      <td>7</td>\n",
              "      <td>1001</td>\n",
              "      <td>7</td>\n",
              "      <td>7</td>\n",
              "      <td>1001</td>\n",
              "      <td>1001</td>\n",
              "      <td>7.0</td>\n",
              "      <td>1001.0</td>\n",
              "      <td>NaN</td>\n",
              "      <td>t</td>\n",
              "      <td>30</td>\n",
              "      <td>60</td>\n",
              "      <td>90</td>\n",
              "      <td>365</td>\n",
              "      <td>2023-06-10</td>\n",
              "      <td>4</td>\n",
              "      <td>1</td>\n",
              "      <td>0</td>\n",
              "      <td>2019-09-12</td>\n",
              "      <td>2022-06-18</td>\n",
              "      <td>4.00</td>\n",
              "      <td>4.33</td>\n",
              "      <td>4.33</td>\n",
              "      <td>4.67</td>\n",
              "      <td>4.67</td>\n",
              "      <td>4.33</td>\n",
              "      <td>4.33</td>\n",
              "      <td>NaN</td>\n",
              "      <td>t</td>\n",
              "      <td>1</td>\n",
              "      <td>0</td>\n",
              "      <td>1</td>\n",
              "      <td>0</td>\n",
              "      <td>0.09</td>\n",
              "    </tr>\n",
              "    <tr>\n",
              "      <th>2085</th>\n",
              "      <td>12717553</td>\n",
              "      <td>https://www.airbnb.com/rooms/12717553</td>\n",
              "      <td>20230610002006</td>\n",
              "      <td>2023-06-10</td>\n",
              "      <td>city scrape</td>\n",
              "      <td>Rental unit in Madrid · ★4.96 · 1 bedroom · 1 ...</td>\n",
              "      <td>En el apartamento, totalmente reformado, hay o...</td>\n",
              "      <td>Es un barrio tranquilo y de gente trabajadora,...</td>\n",
              "      <td>https://a0.muscache.com/pictures/ea2a2735-29a7...</td>\n",
              "      <td>58609937</td>\n",
              "      <td>https://www.airbnb.com/users/show/58609937</td>\n",
              "      <td>Julian</td>\n",
              "      <td>2016-02-13</td>\n",
              "      <td>Madrid, Spain</td>\n",
              "      <td>Hola, soy una persona jubilada. Me considero a...</td>\n",
              "      <td>within an hour</td>\n",
              "      <td>100%</td>\n",
              "      <td>100%</td>\n",
              "      <td>NaN</td>\n",
              "      <td>https://a0.muscache.com/im/pictures/user/633e2...</td>\n",
              "      <td>https://a0.muscache.com/im/pictures/user/633e2...</td>\n",
              "      <td>Delicias</td>\n",
              "      <td>2.0</td>\n",
              "      <td>3.0</td>\n",
              "      <td>['email', 'phone']</td>\n",
              "      <td>t</td>\n",
              "      <td>t</td>\n",
              "      <td>Madrid, Comunidad de Madrid, Spain</td>\n",
              "      <td>Delicias</td>\n",
              "      <td>Arganzuela</td>\n",
              "      <td>40.395840</td>\n",
              "      <td>-3.694990</td>\n",
              "      <td>Private room in rental unit</td>\n",
              "      <td>Private room</td>\n",
              "      <td>2</td>\n",
              "      <td>NaN</td>\n",
              "      <td>1.5 shared baths</td>\n",
              "      <td>NaN</td>\n",
              "      <td>1.0</td>\n",
              "      <td>[\"Elevator\", \"Oven\", \"Kitchen\", \"Body soap\", \"...</td>\n",
              "      <td>$37.00</td>\n",
              "      <td>2</td>\n",
              "      <td>7</td>\n",
              "      <td>2</td>\n",
              "      <td>2</td>\n",
              "      <td>7</td>\n",
              "      <td>7</td>\n",
              "      <td>2.0</td>\n",
              "      <td>7.0</td>\n",
              "      <td>NaN</td>\n",
              "      <td>t</td>\n",
              "      <td>2</td>\n",
              "      <td>8</td>\n",
              "      <td>12</td>\n",
              "      <td>12</td>\n",
              "      <td>2023-06-10</td>\n",
              "      <td>383</td>\n",
              "      <td>89</td>\n",
              "      <td>9</td>\n",
              "      <td>2016-05-23</td>\n",
              "      <td>2023-06-05</td>\n",
              "      <td>4.96</td>\n",
              "      <td>4.97</td>\n",
              "      <td>4.97</td>\n",
              "      <td>4.99</td>\n",
              "      <td>4.96</td>\n",
              "      <td>4.89</td>\n",
              "      <td>4.94</td>\n",
              "      <td>NaN</td>\n",
              "      <td>t</td>\n",
              "      <td>2</td>\n",
              "      <td>0</td>\n",
              "      <td>2</td>\n",
              "      <td>0</td>\n",
              "      <td>4.46</td>\n",
              "    </tr>\n",
              "  </tbody>\n",
              "</table>\n",
              "</div>\n",
              "    <div class=\"colab-df-buttons\">\n",
              "\n",
              "  <div class=\"colab-df-container\">\n",
              "    <button class=\"colab-df-convert\" onclick=\"convertToInteractive('df-c9f48cad-d08b-4a34-9c61-acb2788afc0c')\"\n",
              "            title=\"Convert this dataframe to an interactive table.\"\n",
              "            style=\"display:none;\">\n",
              "\n",
              "  <svg xmlns=\"http://www.w3.org/2000/svg\" height=\"24px\" viewBox=\"0 -960 960 960\">\n",
              "    <path d=\"M120-120v-720h720v720H120Zm60-500h600v-160H180v160Zm220 220h160v-160H400v160Zm0 220h160v-160H400v160ZM180-400h160v-160H180v160Zm440 0h160v-160H620v160ZM180-180h160v-160H180v160Zm440 0h160v-160H620v160Z\"/>\n",
              "  </svg>\n",
              "    </button>\n",
              "\n",
              "  <style>\n",
              "    .colab-df-container {\n",
              "      display:flex;\n",
              "      gap: 12px;\n",
              "    }\n",
              "\n",
              "    .colab-df-convert {\n",
              "      background-color: #E8F0FE;\n",
              "      border: none;\n",
              "      border-radius: 50%;\n",
              "      cursor: pointer;\n",
              "      display: none;\n",
              "      fill: #1967D2;\n",
              "      height: 32px;\n",
              "      padding: 0 0 0 0;\n",
              "      width: 32px;\n",
              "    }\n",
              "\n",
              "    .colab-df-convert:hover {\n",
              "      background-color: #E2EBFA;\n",
              "      box-shadow: 0px 1px 2px rgba(60, 64, 67, 0.3), 0px 1px 3px 1px rgba(60, 64, 67, 0.15);\n",
              "      fill: #174EA6;\n",
              "    }\n",
              "\n",
              "    .colab-df-buttons div {\n",
              "      margin-bottom: 4px;\n",
              "    }\n",
              "\n",
              "    [theme=dark] .colab-df-convert {\n",
              "      background-color: #3B4455;\n",
              "      fill: #D2E3FC;\n",
              "    }\n",
              "\n",
              "    [theme=dark] .colab-df-convert:hover {\n",
              "      background-color: #434B5C;\n",
              "      box-shadow: 0px 1px 3px 1px rgba(0, 0, 0, 0.15);\n",
              "      filter: drop-shadow(0px 1px 2px rgba(0, 0, 0, 0.3));\n",
              "      fill: #FFFFFF;\n",
              "    }\n",
              "  </style>\n",
              "\n",
              "    <script>\n",
              "      const buttonEl =\n",
              "        document.querySelector('#df-c9f48cad-d08b-4a34-9c61-acb2788afc0c button.colab-df-convert');\n",
              "      buttonEl.style.display =\n",
              "        google.colab.kernel.accessAllowed ? 'block' : 'none';\n",
              "\n",
              "      async function convertToInteractive(key) {\n",
              "        const element = document.querySelector('#df-c9f48cad-d08b-4a34-9c61-acb2788afc0c');\n",
              "        const dataTable =\n",
              "          await google.colab.kernel.invokeFunction('convertToInteractive',\n",
              "                                                    [key], {});\n",
              "        if (!dataTable) return;\n",
              "\n",
              "        const docLinkHtml = 'Like what you see? Visit the ' +\n",
              "          '<a target=\"_blank\" href=https://colab.research.google.com/notebooks/data_table.ipynb>data table notebook</a>'\n",
              "          + ' to learn more about interactive tables.';\n",
              "        element.innerHTML = '';\n",
              "        dataTable['output_type'] = 'display_data';\n",
              "        await google.colab.output.renderOutput(dataTable, element);\n",
              "        const docLink = document.createElement('div');\n",
              "        docLink.innerHTML = docLinkHtml;\n",
              "        element.appendChild(docLink);\n",
              "      }\n",
              "    </script>\n",
              "  </div>\n",
              "\n",
              "\n",
              "<div id=\"df-6e756cd0-8e56-4b94-a86b-0ac80e5d2c78\">\n",
              "  <button class=\"colab-df-quickchart\" onclick=\"quickchart('df-6e756cd0-8e56-4b94-a86b-0ac80e5d2c78')\"\n",
              "            title=\"Suggest charts.\"\n",
              "            style=\"display:none;\">\n",
              "\n",
              "<svg xmlns=\"http://www.w3.org/2000/svg\" height=\"24px\"viewBox=\"0 0 24 24\"\n",
              "     width=\"24px\">\n",
              "    <g>\n",
              "        <path d=\"M19 3H5c-1.1 0-2 .9-2 2v14c0 1.1.9 2 2 2h14c1.1 0 2-.9 2-2V5c0-1.1-.9-2-2-2zM9 17H7v-7h2v7zm4 0h-2V7h2v10zm4 0h-2v-4h2v4z\"/>\n",
              "    </g>\n",
              "</svg>\n",
              "  </button>\n",
              "\n",
              "<style>\n",
              "  .colab-df-quickchart {\n",
              "      --bg-color: #E8F0FE;\n",
              "      --fill-color: #1967D2;\n",
              "      --hover-bg-color: #E2EBFA;\n",
              "      --hover-fill-color: #174EA6;\n",
              "      --disabled-fill-color: #AAA;\n",
              "      --disabled-bg-color: #DDD;\n",
              "  }\n",
              "\n",
              "  [theme=dark] .colab-df-quickchart {\n",
              "      --bg-color: #3B4455;\n",
              "      --fill-color: #D2E3FC;\n",
              "      --hover-bg-color: #434B5C;\n",
              "      --hover-fill-color: #FFFFFF;\n",
              "      --disabled-bg-color: #3B4455;\n",
              "      --disabled-fill-color: #666;\n",
              "  }\n",
              "\n",
              "  .colab-df-quickchart {\n",
              "    background-color: var(--bg-color);\n",
              "    border: none;\n",
              "    border-radius: 50%;\n",
              "    cursor: pointer;\n",
              "    display: none;\n",
              "    fill: var(--fill-color);\n",
              "    height: 32px;\n",
              "    padding: 0;\n",
              "    width: 32px;\n",
              "  }\n",
              "\n",
              "  .colab-df-quickchart:hover {\n",
              "    background-color: var(--hover-bg-color);\n",
              "    box-shadow: 0 1px 2px rgba(60, 64, 67, 0.3), 0 1px 3px 1px rgba(60, 64, 67, 0.15);\n",
              "    fill: var(--button-hover-fill-color);\n",
              "  }\n",
              "\n",
              "  .colab-df-quickchart-complete:disabled,\n",
              "  .colab-df-quickchart-complete:disabled:hover {\n",
              "    background-color: var(--disabled-bg-color);\n",
              "    fill: var(--disabled-fill-color);\n",
              "    box-shadow: none;\n",
              "  }\n",
              "\n",
              "  .colab-df-spinner {\n",
              "    border: 2px solid var(--fill-color);\n",
              "    border-color: transparent;\n",
              "    border-bottom-color: var(--fill-color);\n",
              "    animation:\n",
              "      spin 1s steps(1) infinite;\n",
              "  }\n",
              "\n",
              "  @keyframes spin {\n",
              "    0% {\n",
              "      border-color: transparent;\n",
              "      border-bottom-color: var(--fill-color);\n",
              "      border-left-color: var(--fill-color);\n",
              "    }\n",
              "    20% {\n",
              "      border-color: transparent;\n",
              "      border-left-color: var(--fill-color);\n",
              "      border-top-color: var(--fill-color);\n",
              "    }\n",
              "    30% {\n",
              "      border-color: transparent;\n",
              "      border-left-color: var(--fill-color);\n",
              "      border-top-color: var(--fill-color);\n",
              "      border-right-color: var(--fill-color);\n",
              "    }\n",
              "    40% {\n",
              "      border-color: transparent;\n",
              "      border-right-color: var(--fill-color);\n",
              "      border-top-color: var(--fill-color);\n",
              "    }\n",
              "    60% {\n",
              "      border-color: transparent;\n",
              "      border-right-color: var(--fill-color);\n",
              "    }\n",
              "    80% {\n",
              "      border-color: transparent;\n",
              "      border-right-color: var(--fill-color);\n",
              "      border-bottom-color: var(--fill-color);\n",
              "    }\n",
              "    90% {\n",
              "      border-color: transparent;\n",
              "      border-bottom-color: var(--fill-color);\n",
              "    }\n",
              "  }\n",
              "</style>\n",
              "\n",
              "  <script>\n",
              "    async function quickchart(key) {\n",
              "      const quickchartButtonEl =\n",
              "        document.querySelector('#' + key + ' button');\n",
              "      quickchartButtonEl.disabled = true;  // To prevent multiple clicks.\n",
              "      quickchartButtonEl.classList.add('colab-df-spinner');\n",
              "      try {\n",
              "        const charts = await google.colab.kernel.invokeFunction(\n",
              "            'suggestCharts', [key], {});\n",
              "      } catch (error) {\n",
              "        console.error('Error during call to suggestCharts:', error);\n",
              "      }\n",
              "      quickchartButtonEl.classList.remove('colab-df-spinner');\n",
              "      quickchartButtonEl.classList.add('colab-df-quickchart-complete');\n",
              "    }\n",
              "    (() => {\n",
              "      let quickchartButtonEl =\n",
              "        document.querySelector('#df-6e756cd0-8e56-4b94-a86b-0ac80e5d2c78 button');\n",
              "      quickchartButtonEl.style.display =\n",
              "        google.colab.kernel.accessAllowed ? 'block' : 'none';\n",
              "    })();\n",
              "  </script>\n",
              "</div>\n",
              "    </div>\n",
              "  </div>\n"
            ]
          },
          "metadata": {},
          "execution_count": 10
        }
      ]
    },
    {
      "cell_type": "markdown",
      "source": [
        "## 2. Análisis univariado"
      ],
      "metadata": {
        "id": "XZ02V5VaaATL"
      }
    },
    {
      "cell_type": "code",
      "source": [
        "# Mostrando el número de valores únicos de los ID de listado (Saber si hay duplicados)\n",
        "listings_df[\"id\"].nunique() # De acuerdo al resultado no hay registros duplicados"
      ],
      "metadata": {
        "id": "XsgJvBfMaDt0",
        "outputId": "112beec3-1ace-48a6-844f-6724c20ee844",
        "colab": {
          "base_uri": "https://localhost:8080/"
        }
      },
      "execution_count": 11,
      "outputs": [
        {
          "output_type": "execute_result",
          "data": {
            "text/plain": [
              "23524"
            ]
          },
          "metadata": {},
          "execution_count": 11
        }
      ]
    },
    {
      "cell_type": "code",
      "source": [
        "# Mostrando valores únicos de los barrios.\n",
        "listings_df[\"neighbourhood_cleansed\"].unique()"
      ],
      "metadata": {
        "id": "G3fIXUdwabBr",
        "outputId": "6bdb1b06-bfbd-4fd9-eab3-2aa07f26bc86",
        "colab": {
          "base_uri": "https://localhost:8080/"
        }
      },
      "execution_count": 12,
      "outputs": [
        {
          "output_type": "execute_result",
          "data": {
            "text/plain": [
              "array(['Hispanoamérica', 'Cármenes', 'Universidad', 'Legazpi',\n",
              "       'Argüelles', 'Sol', 'Embajadores', 'Justicia', 'Goya', 'Recoletos',\n",
              "       'Palacio', 'Valverde', 'Pueblo Nuevo', 'Almagro', 'Rios Rosas',\n",
              "       'Los Angeles', 'Trafalgar', 'Piovera', 'Castellana', 'Cortes',\n",
              "       'Canillas', 'Arapiles', 'Opañel', 'Chopera', 'Valdefuentes',\n",
              "       'Delicias', 'Almenara', 'Fuente del Berro', 'Niño Jesús',\n",
              "       'Acacias', 'Lista', 'Comillas', 'La Paz', 'Rosas', 'Jerónimos',\n",
              "       'Concepción', 'Puerta del Angel', 'Arcos', 'Pacífico', 'Ibiza',\n",
              "       'Cuatro Caminos', 'Casco Histórico de Barajas', 'San Fermín',\n",
              "       'Palos de Moguer', 'Berruguete', 'Lucero', 'San Diego',\n",
              "       'Prosperidad', 'Castilla', 'Casco Histórico de Vallecas',\n",
              "       'Puerta Bonita', 'Pinar del Rey', 'Costillares', 'El Viso',\n",
              "       'Alameda de Osuna', 'Castillejos', 'Rejas', 'Simancas', 'Timón',\n",
              "       'Salvador', 'Numancia', 'Ciudad Universitaria', 'Marroquina',\n",
              "       'Gaztambide', 'Palomeras Sureste', 'San Juan Bautista',\n",
              "       'San Andrés', 'Los Rosales', 'Casco Histórico de Vicálvaro',\n",
              "       'Atocha', 'Nueva España', 'Ventas', 'Moscardó', 'Fontarrón',\n",
              "       'Guindalera', 'Imperial', 'Aluche', 'San Isidro', 'Valdezarza',\n",
              "       'Bellas Vistas', 'Vista Alegre', 'Casa de Campo', 'Butarque',\n",
              "       'Mirasierra', 'Canillejas', 'Quintana', 'Aravaca', 'Ciudad Jardín',\n",
              "       'Abrantes', 'San Pascual', 'Peñagrande', 'Colina', 'Valdemarín',\n",
              "       'Adelfas', 'Vallehermoso', 'Valdeacederas', 'Apostol Santiago',\n",
              "       'Zofío', 'Almendrales', 'Palomas', 'Palomeras Bajas', 'Campamento',\n",
              "       'Vinateros', 'Pilar', 'Aguilas', 'Orcasur', 'Estrella',\n",
              "       'Aeropuerto', 'Buenavista', 'San Cristobal', 'El Goloso',\n",
              "       'Portazgo', 'Santa Eugenia', 'Hellín', 'Orcasitas', 'Amposta',\n",
              "       'Cuatro Vientos', 'Ambroz', 'Entrevías', 'El Pardo', 'Pradolongo',\n",
              "       'Media Legua', 'Pavones', 'Corralejos', 'El Plantío', 'Horcajo'],\n",
              "      dtype=object)"
            ]
          },
          "metadata": {},
          "execution_count": 12
        }
      ]
    },
    {
      "cell_type": "code",
      "source": [
        "listings_df[\"neighbourhood_cleansed\"].nunique() #Total de barrios"
      ],
      "metadata": {
        "id": "mosf1-YnbIAn",
        "outputId": "ae23dd8d-4e60-4b07-a3d5-aef32e67a5fc",
        "colab": {
          "base_uri": "https://localhost:8080/"
        }
      },
      "execution_count": 13,
      "outputs": [
        {
          "output_type": "execute_result",
          "data": {
            "text/plain": [
              "126"
            ]
          },
          "metadata": {},
          "execution_count": 13
        }
      ]
    },
    {
      "cell_type": "code",
      "source": [
        "# Calcular la frecuencia relativa de los tipos de habitaciones.\n",
        "listings_df[\"room_type\"].value_counts(dropna=False, normalize=True)"
      ],
      "metadata": {
        "id": "Q3dSZEeybh7F",
        "outputId": "22bdd5a0-ef6f-4b35-ece6-c8d2ac8531e4",
        "colab": {
          "base_uri": "https://localhost:8080/"
        }
      },
      "execution_count": 14,
      "outputs": [
        {
          "output_type": "execute_result",
          "data": {
            "text/plain": [
              "Entire home/apt    0.632248\n",
              "Private room       0.349388\n",
              "Shared room        0.013093\n",
              "Hotel room         0.005271\n",
              "Name: room_type, dtype: float64"
            ]
          },
          "metadata": {},
          "execution_count": 14
        }
      ]
    },
    {
      "cell_type": "code",
      "source": [
        "# Calcular estadísticas básicas de acomodaciones\n",
        "listings_df[\"accommodates\"].describe(percentiles=[0.05, 0.25, 0.5, 0.75, 0.95])"
      ],
      "metadata": {
        "id": "F7qf0Vzmc995",
        "outputId": "1f3c8f2f-fda6-48b1-a4b6-bcb201a2582a",
        "colab": {
          "base_uri": "https://localhost:8080/"
        }
      },
      "execution_count": 15,
      "outputs": [
        {
          "output_type": "execute_result",
          "data": {
            "text/plain": [
              "count    23524.000000\n",
              "mean         3.115287\n",
              "std          1.939038\n",
              "min          0.000000\n",
              "5%           1.000000\n",
              "25%          2.000000\n",
              "50%          2.000000\n",
              "75%          4.000000\n",
              "95%          6.000000\n",
              "max         16.000000\n",
              "Name: accommodates, dtype: float64"
            ]
          },
          "metadata": {},
          "execution_count": 15
        }
      ]
    },
    {
      "cell_type": "code",
      "source": [
        "# Transformacio del atributo precio\n",
        "listings_df[\"price_float\"] = listings_df[\"price\"].str.replace(\"[$,]\", \"\", regex=True).astype(float)"
      ],
      "metadata": {
        "id": "haljnvYdH400"
      },
      "execution_count": 16,
      "outputs": []
    },
    {
      "cell_type": "code",
      "source": [
        "# Histograma de precio\n",
        "plt.figure(figsize=(25, 6))\n",
        "plt.hist(listings_df[\"price_float\"], bins=30)\n",
        "plt.title(\"Price distribution\")\n",
        "plt.plot()"
      ],
      "metadata": {
        "id": "HFAeCjyxIWCr",
        "outputId": "dd6fd228-cb33-4aec-9feb-4e5d0df35011",
        "colab": {
          "base_uri": "https://localhost:8080/",
          "height": 282
        }
      },
      "execution_count": 29,
      "outputs": [
        {
          "output_type": "execute_result",
          "data": {
            "text/plain": [
              "[]"
            ]
          },
          "metadata": {},
          "execution_count": 29
        },
        {
          "output_type": "display_data",
          "data": {
            "text/plain": [
              "<Figure size 2500x600 with 1 Axes>"
            ],
            "image/png": "[encoded data removed]"
          },
          "metadata": {}
        }
      ]
    },
    {
      "cell_type": "code",
      "source": [
        "# Cálculos para determinar en un umbral de valor atípico\n",
        "q1 = listings_df[\"price_float\"].quantile(0.25)\n",
        "q3 = listings_df[\"price_float\"].quantile(0.75)\n",
        "iqr = q3 - q1"
      ],
      "metadata": {
        "id": "DWG3v0WPJuR-"
      },
      "execution_count": 30,
      "outputs": []
    },
    {
      "cell_type": "code",
      "source": [
        "plt.figure(figsize=(20, 5))\n",
        "plt.hist(listings_df.loc[listings_df[\"price_float\"] <= (q3 + 1.5 * iqr)][\"price_float\"], bins=50, color='green')\n",
        "plt.title(\"Price distribution\")\n",
        "plt.plot()"
      ],
      "metadata": {
        "id": "uH8k7h7eJ2Nz",
        "outputId": "9dbc9661-3908-4dbc-e07d-6bee46a60155",
        "colab": {
          "base_uri": "https://localhost:8080/",
          "height": 298
        }
      },
      "execution_count": 40,
      "outputs": [
        {
          "output_type": "execute_result",
          "data": {
            "text/plain": [
              "[]"
            ]
          },
          "metadata": {},
          "execution_count": 40
        },
        {
          "output_type": "display_data",
          "data": {
            "text/plain": [
              "<Figure size 2000x500 with 1 Axes>"
            ],
            "image/png": "[encoded data removed]"
          },
          "metadata": {}
        }
      ]
    },
    {
      "cell_type": "code",
      "source": [
        "# Gráficos para disponibilidad y reserva instantánea\n",
        "fig, (ax1, ax2) = plt.subplots(1, 2, sharey=True, figsize=(20, 5))\n",
        "listings_df[\"has_availability\"].value_counts().plot(kind=\"bar\", ax=ax1, color=\"silver\")\n",
        "listings_df[\"instant_bookable\"].value_counts().sort_index(ascending=False).plot(kind=\"bar\", ax=ax2, color=\"green\")\n",
        "ax1.set_title(\"Tiene frecuencia de disponibilidad\")\n",
        "ax2.set_title(\"Frecuencia reservable al instante\")\n",
        "plt.show()"
      ],
      "metadata": {
        "id": "b8JEEjmgJ-Ys",
        "outputId": "815dd487-0bba-4037-94fb-8708d94892ff",
        "colab": {
          "base_uri": "https://localhost:8080/",
          "height": 274
        }
      },
      "execution_count": 37,
      "outputs": [
        {
          "output_type": "display_data",
          "data": {
            "text/plain": [
              "<Figure size 2000x500 with 2 Axes>"
            ],
            "image/png": "[encoded data removed]"
          },
          "metadata": {}
        }
      ]
    },
    {
      "cell_type": "code",
      "source": [
        "# Diagrama para el número de opiniones\n",
        "plt.figure(figsize=(20, 5))\n",
        "plt.boxplot(listings_df[\"number_of_reviews\"], showmeans=True, vert=False)\n",
        "plt.title(\"Distribución del número de opiniones\")\n",
        "plt.show()"
      ],
      "metadata": {
        "id": "65Lcmb1hKuPV",
        "outputId": "aa9ba1a8-53ba-433d-948e-1bcdf4e3c24c",
        "colab": {
          "base_uri": "https://localhost:8080/",
          "height": 285
        }
      },
      "execution_count": 43,
      "outputs": [
        {
          "output_type": "display_data",
          "data": {
            "text/plain": [
              "<Figure size 2000x500 with 1 Axes>"
            ],
            "image/png": "[encoded data removed]"
          },
          "metadata": {}
        }
      ]
    },
    {
      "cell_type": "markdown",
      "source": [
        "## 2. Bivariate analysis"
      ],
      "metadata": {
        "id": "2_KUWG9JLOsa"
      }
    },
    {
      "cell_type": "code",
      "source": [],
      "metadata": {
        "id": "4J9fwt6NLQbG"
      },
      "execution_count": null,
      "outputs": []
    }
  ]
}