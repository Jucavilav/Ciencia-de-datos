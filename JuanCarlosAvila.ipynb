{
  "nbformat": 4,
  "nbformat_minor": 0,
  "metadata": {
    "colab": {
      "provenance": [],
      "toc_visible": true,
      "authorship_tag": "ABX9TyOPqboAhoTobGGN95KagLb8",
      "include_colab_link": true
    },
    "kernelspec": {
      "name": "python3",
      "display_name": "Python 3"
    },
    "language_info": {
      "name": "python"
    }
  },
  "cells": [
    {
      "cell_type": "markdown",
      "metadata": {
        "id": "view-in-github",
        "colab_type": "text"
      },
      "source": [
        "<a href=\"https://colab.research.google.com/github/Jucavilav/Ciencia-de-datos/blob/Taller1/JuanCarlosAvila.ipynb\" target=\"_parent\"><img src=\"https://colab.research.google.com/assets/colab-badge.svg\" alt=\"Open In Colab\"/></a>"
      ]
    },
    {
      "cell_type": "markdown",
      "source": [
        "# Exploratory Data Analysis (EDA)\n",
        "- MINE-4101: Applied Data Science\n",
        "- Univerisdad de los Andes\n",
        "- Dataset: AirBnb Listings Madrid\n",
        "- Last update: September, 2023\n",
        "- Juan Carlos Avila Villalba"
      ],
      "metadata": {
        "id": "FHIoPFzddHLj"
      }
    },
    {
      "cell_type": "code",
      "execution_count": 1,
      "metadata": {
        "id": "FSnl2njVIknu"
      },
      "outputs": [],
      "source": [
        "import pandas as pd\n",
        "import matplotlib.pyplot as plt\n",
        "import seaborn as sns"
      ]
    },
    {
      "cell_type": "code",
      "source": [
        "pd.set_option(\"display.max_columns\", None)\n",
        "pd.set_option(\"display.max_rows\", 100)"
      ],
      "metadata": {
        "id": "NVkHxMi-d924"
      },
      "execution_count": 2,
      "outputs": []
    },
    {
      "cell_type": "markdown",
      "source": [
        "### 1. Loading the data"
      ],
      "metadata": {
        "id": "FeAOUK0NeCzg"
      }
    },
    {
      "cell_type": "code",
      "source": [
        "##listings_df = pd.read_csv(\"datos/listings.csv.gz\") (Pendiente ruta)"
      ],
      "metadata": {
        "id": "kbl4yWGUeF3g"
      },
      "execution_count": 11,
      "outputs": []
    }
  ]
}